{
 "cells": [
  {
   "attachments": {},
   "cell_type": "markdown",
   "metadata": {},
   "source": [
    "# Benchmark 02\n",
    "\n",
    "- `OneHotEncoder` Prise en compte des seuls termes ayant généré une fraude\n",
    "- `RandomForestClassifier`\n"
   ]
  },
  {
   "cell_type": "code",
   "execution_count": 4,
   "metadata": {},
   "outputs": [],
   "source": [
    "from utils import *\n",
    "x_train, y_train, df, x_test = get_data()\n",
    "\n",
    "# Listes des occurences uniques de valeurs pour les différents types de colonnes\n",
    "# Prise en compte des seuls termes ayant généré une fraude\n",
    "df_fraud = df.query('fraud==1')\n",
    "categories = distinct_values_for('category_', df_fraud)\n",
    "manufacturers = distinct_values_for('manufacturer_', df_fraud)\n",
    "products = distinct_values_for('product_', df_fraud)\n",
    "product_codes = distinct_values_for('product_code_', df_fraud)\n"
   ]
  },
  {
   "cell_type": "code",
   "execution_count": 5,
   "metadata": {},
   "outputs": [],
   "source": [
    "# En phase d'évaluation des performances\n",
    "from sklearn.model_selection import train_test_split\n",
    "\n",
    "x_train, x_test, y_train, y_test = train_test_split(x_train,\n",
    "                                                   y_train, test_size=0.2, random_state=42)\n",
    "\n",
    "\n",
    "# Taux de fraude dans l'ensemble d'entraînement\n",
    "fraud_rate_in_train =  sum(y_train.fraud)/len(y_train.fraud)*100\n",
    "# Taux de fraude dans l'ensemble de test\n",
    "fraud_rate_in_test = sum(y_test.fraud)/len(y_test.fraud)*100\n",
    "\n",
    "# On s'assure qu'il y a moins de 10% d'écart entre les taux de fraude\n",
    "assert abs(fraud_rate_in_train-fraud_rate_in_test)/fraud_rate_in_train < 0.1"
   ]
  },
  {
   "cell_type": "code",
   "execution_count": 6,
   "metadata": {},
   "outputs": [],
   "source": [
    "# Colonnes non textuelles supprimées dans la sélection des colonnes pour le 1_hot_encoding\n",
    "# id, product_count_i, product_type_count\n",
    "columns_for_1_hot_encoding = ['category_'+str(i+1) for i in range(24)] \\\n",
    "                             + ['manufacturer_'+str(i+1) for i in range(24)] \\\n",
    "                             + ['product_'+str(i+1) for i in range(24)] \\\n",
    "                             + ['product_code_'+str(i+1) for i in range(24)]\n",
    "\n",
    "x = x_train[columns_for_1_hot_encoding].to_numpy()"
   ]
  },
  {
   "cell_type": "code",
   "execution_count": 7,
   "metadata": {},
   "outputs": [],
   "source": [
    "from sklearn.preprocessing import OneHotEncoder\n",
    "unique_values = [categories for i in range(24)]  \\\n",
    "                + [manufacturers for i in range(24)]  \\\n",
    "                + [products for i in range(24)] \\\n",
    "                + [product_codes for i in range(24)] \n",
    "                \n",
    "encoder = OneHotEncoder(categories=unique_values, handle_unknown='ignore')\n",
    "\n",
    "encoder.fit(x)\n",
    "\n",
    "x_dummy = encoder.transform(x)\n",
    "y = y_train.to_numpy()"
   ]
  },
  {
   "cell_type": "code",
   "execution_count": 13,
   "metadata": {},
   "outputs": [
    {
     "data": {
      "text/plain": [
       "RandomForestClassifier(n_estimators=250)"
      ]
     },
     "execution_count": 13,
     "metadata": {},
     "output_type": "execute_result"
    }
   ],
   "source": [
    "from sklearn.ensemble import RandomForestClassifier\n",
    "model = RandomForestClassifier(n_estimators=250)\n",
    "model.fit(x_dummy, y.ravel())\n"
   ]
  },
  {
   "cell_type": "code",
   "execution_count": 14,
   "metadata": {},
   "outputs": [
    {
     "data": {
      "text/plain": [
       "0.14762240983646155"
      ]
     },
     "execution_count": 14,
     "metadata": {},
     "output_type": "execute_result"
    }
   ],
   "source": [
    "# Evaluation \n",
    "x_test_dummy = encoder.transform(x_test[columns_for_1_hot_encoding].to_numpy())\n",
    "\n",
    "y_score = model.predict_proba(x_test_dummy)[:, 1]\n",
    "\n",
    "from sklearn.metrics import average_precision_score\n",
    "average_precision_score(y_test.to_numpy(), y_score)"
   ]
  },
  {
   "cell_type": "markdown",
   "metadata": {},
   "source": [
    "# Proposition de solution"
   ]
  },
  {
   "cell_type": "markdown",
   "metadata": {},
   "source": [
    "## Entraînement"
   ]
  },
  {
   "cell_type": "code",
   "execution_count": 16,
   "metadata": {},
   "outputs": [
    {
     "data": {
      "text/plain": [
       "RandomForestClassifier(n_estimators=250)"
      ]
     },
     "execution_count": 16,
     "metadata": {},
     "output_type": "execute_result"
    }
   ],
   "source": [
    "from utils import *\n",
    "x_train, y_train, df, x_test = get_data()\n",
    "\n",
    "# Listes des occurences uniques de valeurs pour les différents types de colonnes\n",
    "# Prise en compte des seuls termes ayant généré une fraude\n",
    "df_fraud = df.query('fraud==1')\n",
    "categories = distinct_values_for('category_', df_fraud)\n",
    "manufacturers = distinct_values_for('manufacturer_', df_fraud)\n",
    "products = distinct_values_for('product_', df_fraud)\n",
    "product_codes = distinct_values_for('product_code_', df_fraud)\n",
    "\n",
    "# Colonnes non textuelles supprimées dans la sélection des colonnes pour le 1_hot_encoding\n",
    "# id, product_count_i, product_type_count\n",
    "columns_for_1_hot_encoding = ['category_'+str(i+1) for i in range(24)] \\\n",
    "                             + ['manufacturer_'+str(i+1) for i in range(24)] \\\n",
    "                             + ['product_'+str(i+1) for i in range(24)] \\\n",
    "                             + ['product_code_'+str(i+1) for i in range(24)]\n",
    "\n",
    "x = x_train[columns_for_1_hot_encoding].to_numpy()\n",
    "\n",
    "unique_values = [categories for i in range(24)]  \\\n",
    "                + [manufacturers for i in range(24)]  \\\n",
    "                + [products for i in range(24)] \\\n",
    "                + [product_codes for i in range(24)] \n",
    "                \n",
    "encoder = OneHotEncoder(categories=unique_values, handle_unknown='ignore')\n",
    "encoder.fit(x)\n",
    "x_dummy = encoder.transform(x)\n",
    "y = y_train.to_numpy()\n",
    "\n",
    "# Entrainement\n",
    "model = RandomForestClassifier(n_estimators=250)\n",
    "model.fit(x_dummy, y.ravel())"
   ]
  },
  {
   "cell_type": "markdown",
   "metadata": {},
   "source": [
    "## Prédictions"
   ]
  },
  {
   "cell_type": "code",
   "execution_count": 17,
   "metadata": {},
   "outputs": [],
   "source": [
    "# Evaluation \n",
    "x_test_light = x_test[columns_for_1_hot_encoding].to_numpy()\n",
    "x_dummy = encoder.transform(x_test_light)\n",
    "y_score = model.predict_proba(x_dummy)[:, 1]"
   ]
  },
  {
   "cell_type": "code",
   "execution_count": 18,
   "metadata": {},
   "outputs": [],
   "source": [
    "create_submission_csv(y_score, x_test.id, 'y_benchmark_02')"
   ]
  },
  {
   "attachments": {},
   "cell_type": "markdown",
   "metadata": {},
   "source": [
    "Votre score pour cette soumission est : 0,14272306882230337\n",
    "\n",
    "Equivalent au benchmark avec n_estimators plus grand dans RandomForestClassifier."
   ]
  },
  {
   "cell_type": "markdown",
   "metadata": {},
   "source": []
  }
 ],
 "metadata": {
  "kernelspec": {
   "display_name": "Python 3 (ipykernel)",
   "language": "python",
   "name": "python3"
  },
  "language_info": {
   "codemirror_mode": {
    "name": "ipython",
    "version": 3
   },
   "file_extension": ".py",
   "mimetype": "text/x-python",
   "name": "python",
   "nbconvert_exporter": "python",
   "pygments_lexer": "ipython3",
   "version": "3.9.15"
  },
  "vscode": {
   "interpreter": {
    "hash": "91a1b274506d6f74e572eaeec759c3106362732dc09469b58b1921fd18789856"
   }
  }
 },
 "nbformat": 4,
 "nbformat_minor": 4
}
