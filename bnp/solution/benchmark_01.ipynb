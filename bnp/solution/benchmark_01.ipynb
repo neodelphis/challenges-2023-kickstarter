{
 "cells": [
  {
   "cell_type": "markdown",
   "metadata": {},
   "source": [
    "# Benchmark 01\n",
    "\n",
    "Les informations sur le benchmark utilisé par le site sont assez vagues:\n",
    "\n",
    ">Le second benchmark intègre plusieurs étapes de pré-processing et utilise un modèle de Machine Learning optimisé pour prédire le risque de fraude.\n",
    "\n",
    ">PR-AUC2=0,14\n",
    "\n",
    "Dans cet exemple de benchmark basique on va s'intéresser juste à la catégorisation des valeurs des champs texte via une régression logistique. Les paramètres pour la régression logistique sont laissés à ceux par défaut de scikit learn.\n",
    "\n",
    "```py\n",
    "OneHotEncoder,\n",
    "LogisticRegression\n",
    "```\n",
    "\n",
    "Un peu moins bon que le benchmark proposé, l'aire sous la courbe étant un peu plus faible.\n",
    "\n",
    "PR-AUC = 0,1292\n"
   ]
  },
  {
   "cell_type": "code",
   "execution_count": 1,
   "metadata": {},
   "outputs": [],
   "source": [
    "from utils import *\n",
    "x_train, y_train, _, x_test = get_data()\n",
    "\n",
    "# Listes des occurences uniques de valeurs pour les différents types de colonnes\n",
    "categories = distinct_values_for('category_', x_train)\n",
    "manufacturers = distinct_values_for('manufacturer_', x_train)\n",
    "products = distinct_values_for('product_', x_train)\n",
    "product_codes = distinct_values_for('product_code_', x_train)\n"
   ]
  },
  {
   "cell_type": "code",
   "execution_count": 2,
   "metadata": {},
   "outputs": [],
   "source": [
    "# En phase d'évaluation des performances\n",
    "from sklearn.model_selection import train_test_split\n",
    "\n",
    "x_train, x_test, y_train, y_test = train_test_split(x_train,\n",
    "                                                   y_train, test_size=0.2, random_state=42)\n",
    "\n",
    "\n",
    "# Taux de fraude dans l'ensemble d'entraînement\n",
    "fraud_rate_in_train =  sum(y_train.fraud)/len(y_train.fraud)*100\n",
    "# Taux de fraude dans l'ensemble de test\n",
    "fraud_rate_in_test = sum(y_test.fraud)/len(y_test.fraud)*100\n",
    "\n",
    "# On s'assure qu'il y a moins de 10% d'écart entre les taux de fraude\n",
    "assert abs(fraud_rate_in_train-fraud_rate_in_test)/fraud_rate_in_train < 0.1"
   ]
  },
  {
   "cell_type": "code",
   "execution_count": 3,
   "metadata": {},
   "outputs": [],
   "source": [
    "# Colonnes non textuelles supprimées dans la sélection des colonnes pour le 1_hot_encoding\n",
    "# id, product_count_i, product_type_count\n",
    "columns_for_1_hot_encoding = ['category_'+str(i+1) for i in range(24)] \\\n",
    "                             + ['manufacturer_'+str(i+1) for i in range(24)] \\\n",
    "                             + ['product_'+str(i+1) for i in range(24)] \\\n",
    "                             + ['product_code_'+str(i+1) for i in range(24)]\n",
    "\n",
    "x = x_train[columns_for_1_hot_encoding].to_numpy()"
   ]
  },
  {
   "cell_type": "code",
   "execution_count": 4,
   "metadata": {},
   "outputs": [],
   "source": [
    "from sklearn.preprocessing import OneHotEncoder\n",
    "unique_values = [categories for i in range(24)]  \\\n",
    "                + [manufacturers for i in range(24)]  \\\n",
    "                + [products for i in range(24)] \\\n",
    "                + [product_codes for i in range(24)] \n",
    "                \n",
    "encoder = OneHotEncoder(categories=unique_values, handle_unknown='ignore')\n",
    "\n",
    "encoder.fit(x)\n",
    "\n",
    "x_dummy = encoder.transform(x)\n",
    "y = y_train.to_numpy()"
   ]
  },
  {
   "cell_type": "code",
   "execution_count": 6,
   "metadata": {},
   "outputs": [],
   "source": [
    "# Entrainement\n",
    "\n",
    "from sklearn.linear_model import LogisticRegression\n",
    "# y.ravel()\n",
    "# pour éviter le message \n",
    "# DataConversionWarning: A column-vector y was passed when a 1d array was expected.\n",
    "# Please change the shape of y to (n_samples, ), for example using ravel().\n",
    "clf = LogisticRegression(solver='liblinear').fit(x_dummy, y.ravel())\n",
    "\n",
    "# solver=\"newton-cg\"\n",
    "# un peu mieux en val mais même efficacité en test"
   ]
  },
  {
   "cell_type": "code",
   "execution_count": 7,
   "metadata": {},
   "outputs": [
    {
     "data": {
      "text/plain": [
       "0.1315811859383418"
      ]
     },
     "execution_count": 7,
     "metadata": {},
     "output_type": "execute_result"
    }
   ],
   "source": [
    "# Evaluation \n",
    "x_test = x_test[columns_for_1_hot_encoding].to_numpy()\n",
    "x_test_dummy = encoder.transform(x_test)\n",
    "y_test = y_test.to_numpy()\n",
    "\n",
    "y_score = clf.predict_proba(x_test_dummy)[:, 1]\n",
    "\n",
    "\n",
    "from sklearn.metrics import average_precision_score\n",
    "average_precision_score(y_test, y_score)"
   ]
  },
  {
   "cell_type": "markdown",
   "metadata": {},
   "source": [
    "# Proposition de solution"
   ]
  },
  {
   "cell_type": "markdown",
   "metadata": {},
   "source": [
    "## Entraînement"
   ]
  },
  {
   "cell_type": "code",
   "execution_count": null,
   "metadata": {},
   "outputs": [],
   "source": [
    "from sklearn.preprocessing import OneHotEncoder\n",
    "from sklearn.linear_model import LogisticRegression\n",
    "from utils import *\n",
    "\n",
    "x_train, y_train, _, x_test = get_data()\n",
    "\n",
    "# Listes des occurences uniques de valeurs pour les différents types de colonnes\n",
    "categories = distinct_values_for('category_', x_train)\n",
    "manufacturers = distinct_values_for('manufacturer_', x_train)\n",
    "products = distinct_values_for('product_', x_train)\n",
    "product_codes = distinct_values_for('product_code_', x_train)\n",
    "\n",
    "# Colonnes non textuelles supprimées dans la sélection des colonnes pour le 1_hot_encoding\n",
    "# id, product_count_i, product_type_count\n",
    "columns_for_1_hot_encoding = ['category_'+str(i+1) for i in range(24)] \\\n",
    "                             + ['manufacturer_'+str(i+1) for i in range(24)] \\\n",
    "                             + ['product_'+str(i+1) for i in range(24)] \\\n",
    "                             + ['product_code_'+str(i+1) for i in range(24)]\n",
    "\n",
    "x = x_train[columns_for_1_hot_encoding].to_numpy()\n",
    "\n",
    "unique_values = [categories for i in range(24)]  \\\n",
    "                + [manufacturers for i in range(24)]  \\\n",
    "                + [products for i in range(24)] \\\n",
    "                + [product_codes for i in range(24)] \n",
    "                \n",
    "encoder = OneHotEncoder(categories=unique_values, handle_unknown='ignore')\n",
    "\n",
    "encoder.fit(x)\n",
    "\n",
    "x_dummy = encoder.transform(x)\n",
    "y = y_train.to_numpy()\n",
    "\n",
    "# Entrainement\n",
    "clf = LogisticRegression(solver=\"liblinear\").fit(x_dummy, y.ravel())\n"
   ]
  },
  {
   "cell_type": "markdown",
   "metadata": {},
   "source": [
    "## Prédictions"
   ]
  },
  {
   "cell_type": "code",
   "execution_count": null,
   "metadata": {},
   "outputs": [],
   "source": [
    "# Evaluation \n",
    "x_test_light = x_test[columns_for_1_hot_encoding].to_numpy()\n",
    "x_test_dummy = encoder.transform(x_test_light)\n",
    "\n",
    "y_score = clf.predict_proba(x_test_dummy)[:, 1]\n",
    "# y_score.shape"
   ]
  },
  {
   "cell_type": "code",
   "execution_count": null,
   "metadata": {},
   "outputs": [],
   "source": [
    "\n",
    "create_submission_csv(y_score, x_test.id, 'y_benchmark_01')"
   ]
  }
 ],
 "metadata": {
  "kernelspec": {
   "display_name": "Python 3 (ipykernel)",
   "language": "python",
   "name": "python3"
  },
  "language_info": {
   "codemirror_mode": {
    "name": "ipython",
    "version": 3
   },
   "file_extension": ".py",
   "mimetype": "text/x-python",
   "name": "python",
   "nbconvert_exporter": "python",
   "pygments_lexer": "ipython3",
   "version": "3.9.15"
  },
  "vscode": {
   "interpreter": {
    "hash": "91a1b274506d6f74e572eaeec759c3106362732dc09469b58b1921fd18789856"
   }
  }
 },
 "nbformat": 4,
 "nbformat_minor": 4
}
