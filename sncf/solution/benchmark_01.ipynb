{
 "cells": [
  {
   "attachments": {},
   "cell_type": "markdown",
   "metadata": {},
   "source": [
    "# Benchmark\n",
    "\n",
    "Description du benchmark\n",
    "\n",
    "Le modèle de référence utilisé dans ce challenge utilise un modèle linéaire multiple. Chaque nœud est défini par l’intersection d’un numéro de train et un identifiant de gare. Nous utilisons un simple modèle linéaire avec au plus un voisinage p = q = 1.\n",
    "\n",
    "$Y_{k, s} = \\beta^0_{k, s} + \\beta^{1, 0}_{k, s} y_{k-1, s} + \\beta^{0, 1}_{k, s} y_{k, s-1} + \\varepsilon_{k, s}$\n",
    "\n",
    "quand le voisinage existe. Avec la syntaxe de R, cela donne :\n",
    "\n",
    "lm(p0q0 ~ p1q0 + p0q1, data = dataByNode)\n",
    "\n",
    "> Ici les deux variables qui nous intéressent sont p1q0, p0q1 et on fait une régression linéaire pour chaque couple (k, s)\n",
    "\n",
    "> Dans ce modèle ultra simplifié, on remplace arbitrairement tous les NaN par des 0\n",
    "\n"
   ]
  },
  {
   "cell_type": "code",
   "execution_count": 1,
   "metadata": {},
   "outputs": [],
   "source": [
    "from utils import *\n",
    "_, _, df, _ = get_data()"
   ]
  },
  {
   "cell_type": "code",
   "execution_count": 2,
   "metadata": {},
   "outputs": [],
   "source": [
    "# trains et  stations\n",
    "# pour faire une régression linéaire pour chaque couple (k, s)\n",
    "trains = df.train.unique()\n",
    "\n",
    "# Comme un train ne déssert pas toutes les gares\n",
    "# les stations sont une liste indexée par le trains\n",
    "# stations est un dictionnaire qui a un train associe la liste des stations desservies\n",
    "# stations[20] = ['AE', 'AI', 'AJ', 'AK', 'AL', 'AO', 'AQ', 'BB', 'BC']\n",
    "stations = {k:list(df.loc[df.train==k].station.unique()) for k in trains}\n"
   ]
  },
  {
   "cell_type": "code",
   "execution_count": 3,
   "metadata": {},
   "outputs": [],
   "source": [
    "# Dans ce modèle ultra simplifié, on remplace arbitrairement \n",
    "# tous les NaN par des 0\n",
    "df.fillna(0,inplace=True)"
   ]
  },
  {
   "cell_type": "code",
   "execution_count": 4,
   "metadata": {},
   "outputs": [],
   "source": [
    "# En phase d'évaluation des performances\n",
    "chosen_columns = ['train', 'station','p1q0', 'p0q1']\n",
    "_, _, df_train, _, _, df_test = split_data(df, chosen_columns)"
   ]
  },
  {
   "cell_type": "code",
   "execution_count": 5,
   "metadata": {},
   "outputs": [
    {
     "name": "stdout",
     "output_type": "stream",
     "text": [
      "Nombre de paires (k, s) possibles:  541\n"
     ]
    }
   ],
   "source": [
    "# Nombre de paires (k, s) possibles\n",
    "print('Nombre de paires (k, s) possibles: ',\n",
    "      sum([len(stations[k]) for k in trains]))"
   ]
  },
  {
   "cell_type": "code",
   "execution_count": 6,
   "metadata": {},
   "outputs": [],
   "source": [
    "# Entraînement d'un modèle pour chaque (k,s)\n",
    "\n",
    "from sklearn import linear_model\n",
    "\n",
    "model = {}\n",
    "dataset = {}\n",
    "\n",
    "for k in trains:\n",
    "    for s in stations[k]:\n",
    "        df_train_ks = df_train.query('train==@k and station==@s')\n",
    "        df_test_ks = df_test.query('train==@k and station==@s')\n",
    "\n",
    "        x_train_ks = df_train_ks[['p1q0', 'p0q1']]\n",
    "        y_train_ks = df_train_ks['p0q0']\n",
    "        x_test_ks = df_test_ks[['p1q0', 'p0q1']]\n",
    "        y_test_ks = df_test_ks['p0q0']\n",
    "        dataset[(k,s)] = x_train_ks, y_train_ks, x_test_ks, y_test_ks\n",
    "\n",
    "for k in trains:\n",
    "    for s in stations[k]:\n",
    "        x, y, _, _ = dataset[(k,s)]\n",
    "        linear_classifier = linear_model.LinearRegression()\n",
    "        linear_classifier.fit(x, y)\n",
    "        model[(k,s)] = linear_classifier\n"
   ]
  },
  {
   "cell_type": "code",
   "execution_count": 7,
   "metadata": {},
   "outputs": [
    {
     "data": {
      "text/plain": [
       "1.2009279492967329"
      ]
     },
     "execution_count": 7,
     "metadata": {},
     "output_type": "execute_result"
    }
   ],
   "source": [
    "# Evaluation du modèle\n",
    "\n",
    "from sklearn.metrics import mean_absolute_error\n",
    "\n",
    "errors = []\n",
    "\n",
    "for k in trains:\n",
    "    for s in stations[k]:\n",
    "        _, _, x_test, y_test = dataset[(k,s)]\n",
    "\n",
    "        linear_classifier = model[(k,s)]\n",
    "        y_pred = linear_classifier.predict(x_test)\n",
    "        errors.append(mean_absolute_error(y_test, y_pred))\n",
    "\n",
    "from statistics import fmean\n",
    "fmean(errors)*100\n",
    "# Objectif 1.3"
   ]
  },
  {
   "attachments": {},
   "cell_type": "markdown",
   "metadata": {},
   "source": [
    "# Proposition de solution"
   ]
  },
  {
   "attachments": {},
   "cell_type": "markdown",
   "metadata": {},
   "source": [
    "## Entraînement"
   ]
  },
  {
   "cell_type": "code",
   "execution_count": 8,
   "metadata": {},
   "outputs": [],
   "source": [
    "_, _, df, x_test = get_data()\n",
    "# trains et  stations\n",
    "# pour faire une régression linéaire pour chaque couple (k, s)\n",
    "trains = df.train.unique()\n",
    "\n",
    "# Comme un train ne déssert pas toutes les gares\n",
    "# les stations sont une liste indexée par le trains\n",
    "stations = {k:list(df.loc[df.train==k].station.unique()) for k in trains}\n",
    "\n",
    "df.fillna(0,inplace=True)"
   ]
  },
  {
   "cell_type": "code",
   "execution_count": 9,
   "metadata": {},
   "outputs": [],
   "source": [
    "# Entraînement d'un modèle pour chaque (k,s)\n",
    "from sklearn import linear_model\n",
    "\n",
    "model = {}\n",
    "\n",
    "for k in trains:\n",
    "    for s in stations[k]:\n",
    "        df_ks = df.query('train==@k and station==@s')\n",
    "        x = df_ks[['p1q0', 'p0q1']]\n",
    "        y = df_ks['p0q0']\n",
    "        linear_classifier = linear_model.LinearRegression()\n",
    "        linear_classifier.fit(x, y)\n",
    "        model[(k,s)] = linear_classifier\n"
   ]
  },
  {
   "attachments": {},
   "cell_type": "markdown",
   "metadata": {},
   "source": [
    "## Prédictions"
   ]
  },
  {
   "cell_type": "code",
   "execution_count": 10,
   "metadata": {},
   "outputs": [],
   "source": [
    "# Make predictions using the testing set\n",
    "x_test.fillna(0,inplace=True)\n"
   ]
  },
  {
   "cell_type": "code",
   "execution_count": 16,
   "metadata": {},
   "outputs": [],
   "source": [
    "y_pred = []\n",
    "for row in x_test.itertuples():\n",
    "    # on récupère le bon modèle pour ce train à cette station\n",
    "    linear_classifier = model[(row.train, row.station)]\n",
    "    df_row = pd.DataFrame(np.array([[row.p1q0, row.p0q1]]), columns=['p1q0', 'p0q1'])\n",
    "\n",
    "    #infer from model\n",
    "    infered_value = linear_classifier.predict(df_row)[0]\n",
    "    y_pred.append(infered_value)\n"
   ]
  },
  {
   "cell_type": "code",
   "execution_count": 17,
   "metadata": {},
   "outputs": [],
   "source": [
    "assert len(y_pred) == len(x_test)"
   ]
  },
  {
   "cell_type": "code",
   "execution_count": null,
   "metadata": {},
   "outputs": [],
   "source": [
    "create_submission_csv(y_pred, 'y_benchmark')"
   ]
  },
  {
   "attachments": {},
   "cell_type": "markdown",
   "metadata": {},
   "source": [
    "score public 0,0131 (Ze benchmark)"
   ]
  }
 ],
 "metadata": {
  "kernelspec": {
   "display_name": "Python 3",
   "language": "python",
   "name": "python3"
  },
  "language_info": {
   "codemirror_mode": {
    "name": "ipython",
    "version": 3
   },
   "file_extension": ".py",
   "mimetype": "text/x-python",
   "name": "python",
   "nbconvert_exporter": "python",
   "pygments_lexer": "ipython3",
   "version": "3.9.15"
  },
  "orig_nbformat": 4,
  "vscode": {
   "interpreter": {
    "hash": "91a1b274506d6f74e572eaeec759c3106362732dc09469b58b1921fd18789856"
   }
  }
 },
 "nbformat": 4,
 "nbformat_minor": 2
}
